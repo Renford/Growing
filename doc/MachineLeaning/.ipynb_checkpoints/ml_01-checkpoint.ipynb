{
 "cells": [
  {
   "cell_type": "markdown",
   "metadata": {},
   "source": [
    "## 机器学习准备工作\n",
    "\n",
    "+ python: 简单明确的高级编程语言\n",
    "    0. [Python官网](https://www.python.org)\n",
    "    1. [机器学习的Python快速教程(Python基础)](https://zhuanlan.zhihu.com/p/24162430)\n",
    "    2. [机器学习的Python快速教程(matplotlib和numpy)](https://zhuanlan.zhihu.com/p/24309547)\n",
    "    3. [机器学习的Python快速教程(Python-OpenCV)](https://zhuanlan.zhihu.com/p/24425116)\n",
    "    4. [廖雪峰Python教程](https://www.liaoxuefeng.com/wiki/0014316089557264a6b348958f449949df42a6d3a2e542c000)\n",
    "+ numpy: Python的科学计算包，用于科学计算。\n",
    "    + [numpy API](https://docs.scipy.org/doc/numpy-dev/contents.html)\n",
    "    + array: 数组子模块\n",
    "    + linalg: 线性代数子模块\n",
    "    + random: 随机数子模块\n",
    "+ matplotlib: Python中最常用的可视化工具，创建海量类型地2D图表和一些基本的3D图表。\n",
    "    + [matplotlib API](https://matplotlib.org/api/index.html)\n",
    "    + pyplot: 2D图表子模块，包括点、线、柱、饼\n",
    "    + mpl_toolkits: 3D图表子模块\n",
    "+ latex: 生成复杂表格和数学公式。\n",
    "    + [LaTex官网](https://www.latex-project.org)\n",
    "    + [常用数学符号的 LaTeX 表示方法](http://www.mohu.org/info/symbols/symbols.htm)\n",
    "+ jupyter: 一种可读性分析的工具，可以添加代码、图像、注释、公式等\n",
    "    + [jupyter官网](http://jupyter.org)\n",
    "    + [jupyter小技巧](http://liuchengxu.org/pelican-blog/jupyter-notebook-tips.html)\n",
    "    + [jupyter常用快捷键](https://blog.csdn.net/lawme/article/details/51034543)\n",
    "    + [Anaconda](https://www.anaconda.com/download/#macos): 一键配置jupyter的使用环境\n",
    "    "
   ]
  },
  {
   "cell_type": "markdown",
   "metadata": {},
   "source": [
    "## 常用LaTex符号\n",
    "\n",
    "1. 排版\n",
    "    + `$...$`: 行内元素，默认居左\n",
    "    + `$$...$$`: 块内元素，默认居中\n",
    "\n",
    "2. 上下标\n",
    "    + `^`: 上标\n",
    "    + `_`: 下标\n",
    "\n",
    "3. 数学公式\n",
    "    + `\\frac{1}{2}`: 分数，即：$\\frac{1}{2}$\n",
    "    + `\\sum_1^n`: 求和，即：$\\sum_1^n$\n",
    "    + `\\sqrt[n]{x}`: 开方，即：$\\sqrt[2]{3}$\n",
    "    + `\\int_1^n`: 积分，即：$\\int_1^n$\n",
    "    + `lim_{x \\to \\infty`: 极限，即：$lim_{x \\to \\infty}$\n",
    "    + `\\overrightarrow{AB}`: 向量，即：$\\overrightarrow{AB}$\n",
    "    + `$$\\begin{matrix}...\\end{matrix}$$`: 矩阵，其中，`&`分隔同行元素，`\\\\`换行\n",
    "\n",
    "4. 常用西文符号\n",
    "    + `\\alpha`: $\\alpha$\n",
    "    + `\\beta`: $\\beta$\n",
    "    + `\\omega`: $\\omega$\n",
    "    + `\\Gamma`: $\\Gamma$\n",
    "    + `\\Delta`: $\\Delta$\n",
    "    + `\\Omega`: $\\Omega$\n",
    "5. 各种实例\n",
    "```\n",
    "线性模型：$$h(\\theta)=\\sum_{j=0}^n \\theta_jx_j$$\n",
    "```\n",
    "$$h(\\theta)=\\sum_{j=0}^n \\theta_jx_j$$\n",
    "\n",
    "```\n",
    "均方误差：$$J(\\theta)=\\frac1{2m}\\sum_{i=0}(y^i-h_\\theta(x^i))^2$$\n",
    "```\n",
    "$$J(\\theta)=\\frac1{2m}\\sum_{i=0}(y^i-h_\\theta(x^i))^2$$\n",
    "\n",
    "```\n",
    "批量梯度下降: $$\\frac{\\partial J(\\theta)}{\\partial\\theta_j}=-\\frac1m\\sum_{i=0}^m(y^i-h_\\theta(x^i))x^i_j $$\n",
    "```\n",
    "$$\\frac{\\partial J(\\theta)}{\\partial\\theta_j}=-\\frac1m\\sum_{i=0}^m(y^i-h_\\theta(x^i))x^i_j $$"
   ]
  },
  {
   "cell_type": "code",
   "execution_count": null,
   "metadata": {},
   "outputs": [],
   "source": []
  }
 ],
 "metadata": {
  "kernelspec": {
   "display_name": "Python 3",
   "language": "python",
   "name": "python3"
  },
  "language_info": {
   "codemirror_mode": {
    "name": "ipython",
    "version": 3
   },
   "file_extension": ".py",
   "mimetype": "text/x-python",
   "name": "python",
   "nbconvert_exporter": "python",
   "pygments_lexer": "ipython3",
   "version": "3.6.4"
  }
 },
 "nbformat": 4,
 "nbformat_minor": 2
}
