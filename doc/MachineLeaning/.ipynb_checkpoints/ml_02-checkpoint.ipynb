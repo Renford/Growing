{
 "cells": [
  {
   "cell_type": "markdown",
   "metadata": {},
   "source": [
    "## 问题构建\n",
    "\n",
    "监督式学习：机器学习系统通过学习如何组合输入信息来对从未见过的数据做出有用的预测\n",
    "\n",
    "无监督学习：\n",
    "\n",
    "标签：我们要预测的事物，即简单线性回归中的 y 变量。\n",
    "\n",
    "特征：输入变量，即简单线性回归中的 x 变量。复杂的机器学习项目可能会使用数百万个特征。\n",
    "\n",
    "样本：指数据的特定实例：x\n",
    "\n",
    "    + 有标签样本\n",
    "    + 无标签样本\n",
    "    \n",
    "模型：特征与标签之间的关系\n",
    "\n",
    "    + 阶段\n",
    "        + 训练：表示创建或学习模型\n",
    "        + 推断：表示将训练后的模型应用于无标签样本\n",
    "    + 类型\n",
    "        + 回归模型：可预测连续值\n",
    "        + 分类模型：可预测离散值\n",
    "    "
   ]
  },
  {
   "cell_type": "code",
   "execution_count": null,
   "metadata": {},
   "outputs": [],
   "source": []
  },
  {
   "cell_type": "code",
   "execution_count": null,
   "metadata": {},
   "outputs": [],
   "source": []
  }
 ],
 "metadata": {
  "kernelspec": {
   "display_name": "Python 3",
   "language": "python",
   "name": "python3"
  },
  "language_info": {
   "codemirror_mode": {
    "name": "ipython",
    "version": 3
   },
   "file_extension": ".py",
   "mimetype": "text/x-python",
   "name": "python",
   "nbconvert_exporter": "python",
   "pygments_lexer": "ipython3",
   "version": "3.6.4"
  }
 },
 "nbformat": 4,
 "nbformat_minor": 2
}
